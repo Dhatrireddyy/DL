{
  "nbformat": 4,
  "nbformat_minor": 0,
  "metadata": {
    "colab": {
      "provenance": []
    },
    "kernelspec": {
      "name": "python3",
      "display_name": "Python 3"
    },
    "language_info": {
      "name": "python"
    }
  },
  "cells": [
    {
      "cell_type": "code",
      "execution_count": 518,
      "metadata": {
        "id": "rCQOw12XXNLD"
      },
      "outputs": [],
      "source": [
        "import numpy as np\n",
        "import matplotlib.pyplot as plt\n",
        "import matplotlib.image as mpimg\n",
        "import math\n",
        "import pandas as pd\n"
      ]
    },
    {
      "cell_type": "markdown",
      "source": [
        "### **Question1**"
      ],
      "metadata": {
        "id": "ACWEQ-VzqTvj"
      }
    },
    {
      "cell_type": "code",
      "source": [
        "#Non-linear functions\n",
        "def sigmoid(x):\n",
        "    return 1/(1+np.exp(-x))\n",
        "\n",
        "def tanh(x):\n",
        "    return np.tanh(x)\n",
        "\n",
        "def ReLU(x):\n",
        "    return np.maximum(0,x)\n",
        "\n",
        "def PReLU(x, alpha):\n",
        "  if(x>0):\n",
        "    y=x\n",
        "  else:\n",
        "    y=alpha*x\n",
        "  return y\n",
        "\n",
        "def softmax(z):\n",
        "  return z/np.sum(z)\n"
      ],
      "metadata": {
        "id": "KoTqe4E2XOag"
      },
      "execution_count": 519,
      "outputs": []
    },
    {
      "cell_type": "code",
      "source": [
        "def padded_ref_img(img, p_h, p_w):\n",
        "\n",
        "  w,h = img.shape\n",
        "\n",
        "  p_1 = math.ceil(p_h/2)\n",
        "  p_2 = math.ceil(p_w/2)\n",
        "\n",
        "  a = np.zeros((w+2*p_1, h+2*p_2))\n",
        "\n",
        "  for i in range(w):\n",
        "    for j in range(h):\n",
        "      a[p_1+j, p_2+i] = img[j, i]\n",
        "\n",
        "  for i in range(p_2):\n",
        "    for j in range(h):\n",
        "      a[p_1+j, p_2-i-1] = a[p_1+j, p_2+i]\n",
        "      a[p_1+j, w+p_2+i] = a[p_1+j, w+p_2-1-i]\n",
        "\n",
        "    for i in range(p_1):\n",
        "        a[p_1-1-i] = a[p_1+i]\n",
        "        a[h+p_1+i] = a[h+p_1-1-i]\n",
        "    \n",
        "    if(p_h%2 != 0): \n",
        "      a = a[1:]\n",
        "    if(p_w%2 != 0):\n",
        "      a = (a.T[1:]).T\n",
        "    return a"
      ],
      "metadata": {
        "id": "32Q50Ru3XOfX"
      },
      "execution_count": 520,
      "outputs": []
    },
    {
      "cell_type": "markdown",
      "source": [
        "Convolution function"
      ],
      "metadata": {
        "id": "JSJDW8zOYdwZ"
      }
    },
    {
      "cell_type": "code",
      "source": [
        "def conv(img, kernel, s, p, act_f):\n",
        "    w, h, c = img.shape\n",
        "    k, k, c = kernel.shape\n",
        "    J = np.zeros((((w-k)//s + 1),((h-k)//s + 1)))\n",
        "\n",
        "    if(p == True): \n",
        "        p_w = w*(s-1)-s+k\n",
        "        p_h = h*(s-1)-s+k\n",
        "      \n",
        "        padded_img = np.zeros((w+p_w,h+p_h,c))\n",
        "        for i in range(c):\n",
        "            padded_img[:,:,i] = padded_ref_img(img[:,:,i],p_h,p_w)\n",
        "\n",
        "        J = np.zeros((w,h))\n",
        "        img = padded_img\n",
        "        w, h, c = img.shape\n",
        "        J = np.zeros((((w-k)//s + 1),((h-k)//s + 1)))\n",
        "\n",
        "    flip_ker = np.zeros(kernel.shape)\n",
        "    for i in range(k):\n",
        "      for j in range(k):\n",
        "          for C in range(c):\n",
        "            flip_ker[i, j, C] = kernel[k-1-i, k-1-j, C]\n",
        "\n",
        "    kernel = flip_ker\n",
        "\n",
        "    for z in range(c):\n",
        "      for x in range(J.shape[0]):\n",
        "          for y in range(J.shape[1]):\n",
        "              tem = img[x*s:x*s+k, y*s:y*s+k, z]\n",
        "              J[x, y] += np.sum(np.multiply(kernel[:,:,z],tem))\n",
        "\n",
        "    if(act_f == 'sigmoid'):\n",
        "        J = sigmoid(J)\n",
        "      \n",
        "    elif(act_f == 'tanh'):  \n",
        "        J = tanh(J)\n",
        "\n",
        "    elif(act_f == 'ReLU'):  \n",
        "        J = ReLU(J) \n",
        "\n",
        "    elif(act_f == 'PReLU'):\n",
        "        J[x, y] = PReLU(J[x, y], 0.01)\n",
        "\n",
        "    return J"
      ],
      "metadata": {
        "id": "wBj6VVXhXOhs"
      },
      "execution_count": 521,
      "outputs": []
    },
    {
      "cell_type": "code",
      "source": [
        "#Input of image\n",
        "img = mpimg.imread('logo.png')\n",
        "plt.imshow(img)"
      ],
      "metadata": {
        "colab": {
          "base_uri": "https://localhost:8080/",
          "height": 283
        },
        "id": "I0wDP4seXOmS",
        "outputId": "8439eded-aa5a-4584-fe2a-d738034b0385"
      },
      "execution_count": 522,
      "outputs": [
        {
          "output_type": "execute_result",
          "data": {
            "text/plain": [
              "<matplotlib.image.AxesImage at 0x7f21416bed30>"
            ]
          },
          "metadata": {},
          "execution_count": 522
        },
        {
          "output_type": "display_data",
          "data": {
            "text/plain": [
              "<Figure size 432x288 with 1 Axes>"
            ],
            "image/png": "[encoded data removed]"
          },
          "metadata": {
            "needs_background": "light"
          }
        }
      ]
    },
    {
      "cell_type": "code",
      "source": [
        "# Kernel \n",
        "kernel = np.random.rand(3,3,3)\n",
        "print(kernel)\n",
        "plt.imshow(kernel)"
      ],
      "metadata": {
        "colab": {
          "base_uri": "https://localhost:8080/",
          "height": 473
        },
        "id": "Pa3EdWAUXOqU",
        "outputId": "71870513-c474-43da-cd0f-cad59ad5f990"
      },
      "execution_count": 523,
      "outputs": [
        {
          "output_type": "stream",
          "name": "stdout",
          "text": [
            "[[[0.52533434 0.63314797 0.0542841 ]\n",
            "  [0.58535249 0.0720801  0.61190015]\n",
            "  [0.76033001 0.37758338 0.3576974 ]]\n",
            "\n",
            " [[0.48189278 0.43549467 0.88111391]\n",
            "  [0.3460718  0.46781687 0.68265633]\n",
            "  [0.58566841 0.56158774 0.46098639]]\n",
            "\n",
            " [[0.95280508 0.00377489 0.84695168]\n",
            "  [0.20556967 0.95954011 0.56038674]\n",
            "  [0.41681501 0.14569407 0.86963633]]]\n"
          ]
        },
        {
          "output_type": "execute_result",
          "data": {
            "text/plain": [
              "<matplotlib.image.AxesImage at 0x7f2141623ee0>"
            ]
          },
          "metadata": {},
          "execution_count": 523
        },
        {
          "output_type": "display_data",
          "data": {
            "text/plain": [
              "<Figure size 432x288 with 1 Axes>"
            ],
            "image/png": "[encoded data removed]"
          },
          "metadata": {
            "needs_background": "light"
          }
        }
      ]
    },
    {
      "cell_type": "code",
      "source": [
        "# Output activation map with padding \n",
        "conv_img = conv(img, kernel, s=1, p=True, act_f='sigmoid')\n",
        "plt.imshow(conv_img)\n",
        "print(conv_img.shape)"
      ],
      "metadata": {
        "colab": {
          "base_uri": "https://localhost:8080/",
          "height": 283
        },
        "id": "9idwJDJ8XOsr",
        "outputId": "942a6765-b067-43fa-e30d-a6e4c6814ae5"
      },
      "execution_count": 524,
      "outputs": [
        {
          "output_type": "stream",
          "name": "stdout",
          "text": [
            "(32, 32)\n"
          ]
        },
        {
          "output_type": "display_data",
          "data": {
            "text/plain": [
              "<Figure size 432x288 with 1 Axes>"
            ],
            "image/png": "[encoded data removed]"
          },
          "metadata": {
            "needs_background": "light"
          }
        }
      ]
    },
    {
      "cell_type": "code",
      "source": [
        "# Output activation map without padding\n",
        "conv_img = conv(img, kernel, s=1, p=False, act_f='sigmoid')\n",
        "plt.imshow(conv_img)\n",
        "print(conv_img.shape)"
      ],
      "metadata": {
        "colab": {
          "base_uri": "https://localhost:8080/",
          "height": 283
        },
        "id": "sAt1KroJXOv1",
        "outputId": "f7b954d9-4aef-4f8d-a8d9-ca5bfe0f7607"
      },
      "execution_count": 525,
      "outputs": [
        {
          "output_type": "stream",
          "name": "stdout",
          "text": [
            "(30, 30)\n"
          ]
        },
        {
          "output_type": "display_data",
          "data": {
            "text/plain": [
              "<Figure size 432x288 with 1 Axes>"
            ],
            "image/png": "[encoded data removed]"
          },
          "metadata": {
            "needs_background": "light"
          }
        }
      ]
    },
    {
      "cell_type": "markdown",
      "source": [
        "## **Question2**"
      ],
      "metadata": {
        "id": "QXxoOYupq6Qd"
      }
    },
    {
      "cell_type": "markdown",
      "source": [
        "Pooling function"
      ],
      "metadata": {
        "id": "KeqB1ICRY0qr"
      }
    },
    {
      "cell_type": "code",
      "source": [
        "def pooling_f(act_map,pooling,s,p):\n",
        "    w,h = act_map.shape\n",
        "    pooled_output = []\n",
        "    for i in range(0,w,s):\n",
        "      out_row = []\n",
        "      for j in range(0,h,s):  \n",
        "          X = act_map[i:i+p[0]-1,j:j+p[1]-1]\n",
        "          X = np.matrix(X)\n",
        "\n",
        "          if(pooling.lower()=='max'):\n",
        "            out_row.append(X.max())\n",
        "          elif(pooling.lower()=='average'):\n",
        "            out_row.append(X.sum()/(p[0]*p[1]))\n",
        "          elif(pooling.lower()=='min'):\n",
        "            out_row.append(X.min())  \n",
        "          \n",
        "      pooled_output.append(out_row)\n",
        "      \n",
        "    Img_pooled = np.matrix(pooled_output)\n",
        "    return Img_pooled\n"
      ],
      "metadata": {
        "id": "GkW1urPcXOxh"
      },
      "execution_count": 526,
      "outputs": []
    },
    {
      "cell_type": "code",
      "source": [
        "print(conv_img.shape)\n",
        "plt.imshow(conv_img)\n",
        "plt.title(\"Input activation map\")"
      ],
      "metadata": {
        "colab": {
          "base_uri": "https://localhost:8080/",
          "height": 315
        },
        "id": "UcKHBHv8eBaI",
        "outputId": "283b3959-7fcb-492a-db58-458b18c51429"
      },
      "execution_count": 527,
      "outputs": [
        {
          "output_type": "stream",
          "name": "stdout",
          "text": [
            "(30, 30)\n"
          ]
        },
        {
          "output_type": "execute_result",
          "data": {
            "text/plain": [
              "Text(0.5, 1.0, 'Input activation map')"
            ]
          },
          "metadata": {},
          "execution_count": 527
        },
        {
          "output_type": "display_data",
          "data": {
            "text/plain": [
              "<Figure size 432x288 with 1 Axes>"
            ],
            "image/png": "[encoded data removed]"
          },
          "metadata": {
            "needs_background": "light"
          }
        }
      ]
    },
    {
      "cell_type": "code",
      "source": [
        "pooled_actmap = pooling_f(conv_img, 'max', 2, [2,2])\n",
        "print(pooled_actmap.shape)\n",
        "plt.imshow(pooled_actmap)\n",
        "plt.title(\"output activation map\")"
      ],
      "metadata": {
        "colab": {
          "base_uri": "https://localhost:8080/",
          "height": 315
        },
        "id": "-lkg9kwmXOz-",
        "outputId": "7771c4ee-5dc1-491d-af9b-4e4153830054"
      },
      "execution_count": 528,
      "outputs": [
        {
          "output_type": "stream",
          "name": "stdout",
          "text": [
            "(15, 15)\n"
          ]
        },
        {
          "output_type": "execute_result",
          "data": {
            "text/plain": [
              "Text(0.5, 1.0, 'output activation map')"
            ]
          },
          "metadata": {},
          "execution_count": 528
        },
        {
          "output_type": "display_data",
          "data": {
            "text/plain": [
              "<Figure size 432x288 with 1 Axes>"
            ],
            "image/png": "[encoded data removed]"
          },
          "metadata": {
            "needs_background": "light"
          }
        }
      ]
    },
    {
      "cell_type": "markdown",
      "source": [
        "## **Question3**"
      ],
      "metadata": {
        "id": "24EhQ-oxsRSE"
      }
    },
    {
      "cell_type": "markdown",
      "source": [
        "Convolutional layer function"
      ],
      "metadata": {
        "id": "46z9jmZ6Z422"
      }
    },
    {
      "cell_type": "code",
      "source": [
        "def convolution_layer(img,k_num,k_size,s,p,act_f):\n",
        "    if(img.ndim == 2):\n",
        "      img = np.array(img)\n",
        "      img = img.reshape((img.shape[0], img.shape[1], 1))\n",
        "\n",
        "    c = img.shape[2]\n",
        "    out_actmaps = []\n",
        "    for m in range(k_num):\n",
        "        kernl = np.random.random((k_size[0],k_size[1],c))\n",
        "        outmap_m = conv(img,kernel,s,p,act_f)\n",
        "        out_actmaps.append(outmap_m)\n",
        "  \n",
        "    out_actmaps = np.array(out_actmaps)\n",
        "    out_actmaps = out_actmaps.transpose(1,2,0)\n",
        "\n",
        "    return out_actmaps\n",
        "\n",
        "num_k = 2\n",
        "act_vol = convolution_layer(img,num_k,[3,3],1,True,ReLU)\n",
        "\n",
        "plt.imshow(img)\n",
        "plt.title(\"Input activation map\")\n",
        "\n",
        "print('Image shape =',img.shape)\n"
      ],
      "metadata": {
        "colab": {
          "base_uri": "https://localhost:8080/",
          "height": 298
        },
        "id": "_lElM45fXO2S",
        "outputId": "4fa8a654-d043-4d01-e36f-2635616ba779"
      },
      "execution_count": 529,
      "outputs": [
        {
          "output_type": "stream",
          "name": "stdout",
          "text": [
            "Image shape = (32, 32, 4)\n"
          ]
        },
        {
          "output_type": "display_data",
          "data": {
            "text/plain": [
              "<Figure size 432x288 with 1 Axes>"
            ],
            "image/png": "[encoded data removed]"
          },
          "metadata": {
            "needs_background": "light"
          }
        }
      ]
    },
    {
      "cell_type": "code",
      "source": [
        "print('Output activation map volume shape =', act_vol.shape)\n",
        "for i in range(num_k):\n",
        "  plt.imshow(act_vol[:,:,i])\n",
        "plt.title('Output activation map')"
      ],
      "metadata": {
        "colab": {
          "base_uri": "https://localhost:8080/",
          "height": 315
        },
        "id": "rTLh-evRt-iV",
        "outputId": "c9f278c9-a4f5-4bf1-d7be-17c9bcf96480"
      },
      "execution_count": 530,
      "outputs": [
        {
          "output_type": "stream",
          "name": "stdout",
          "text": [
            "Output activation map volume shape = (32, 32, 2)\n"
          ]
        },
        {
          "output_type": "execute_result",
          "data": {
            "text/plain": [
              "Text(0.5, 1.0, 'Output activation map')"
            ]
          },
          "metadata": {},
          "execution_count": 530
        },
        {
          "output_type": "display_data",
          "data": {
            "text/plain": [
              "<Figure size 432x288 with 1 Axes>"
            ],
            "image/png": "[encoded data removed]"
          },
          "metadata": {
            "needs_background": "light"
          }
        }
      ]
    },
    {
      "cell_type": "markdown",
      "source": [
        "# **Question4**"
      ],
      "metadata": {
        "id": "bC4NfSequF64"
      }
    },
    {
      "cell_type": "markdown",
      "source": [
        "Pooling layer function"
      ],
      "metadata": {
        "id": "o6A6Q1O0bXlR"
      }
    },
    {
      "cell_type": "code",
      "source": [
        "def pooling_layer(map_vol,pooling,s,p):\n",
        "    pooled_out_vol = []\n",
        "    for i in range(map_vol.shape[2]):\n",
        "        pooled_out_vol.append(pooling_f(map_vol[:,:,i],pooling,s,p))\n",
        "\n",
        "    pooled_out_vol = np.array(pooled_out_vol)\n",
        "    pooled_out_vol = pooled_out_vol.transpose(1,2,0)\n",
        "    return pooled_out_vol\n",
        "\n",
        "pooled_act_vol = pooling_layer(act_vol,'max',3,[4,4])\n",
        "\n",
        "m = act_vol.shape[2]\n",
        "\n",
        "for i in range(m):\n",
        "  plt.imshow(act_vol[:,:,i])\n",
        "plt.title('Input activation volume')\n",
        "\n",
        "    "
      ],
      "metadata": {
        "colab": {
          "base_uri": "https://localhost:8080/",
          "height": 298
        },
        "id": "6_Xi1WUJXO4K",
        "outputId": "91315dc8-a8c4-42ba-887d-9d773063148b"
      },
      "execution_count": 531,
      "outputs": [
        {
          "output_type": "execute_result",
          "data": {
            "text/plain": [
              "Text(0.5, 1.0, 'Input activation volume')"
            ]
          },
          "metadata": {},
          "execution_count": 531
        },
        {
          "output_type": "display_data",
          "data": {
            "text/plain": [
              "<Figure size 432x288 with 1 Axes>"
            ],
            "image/png": "[encoded data removed]"
          },
          "metadata": {
            "needs_background": "light"
          }
        }
      ]
    },
    {
      "cell_type": "code",
      "source": [
        "for i in range(m):\n",
        "  plt.imshow(pooled_act_vol[:,:,i])\n",
        "plt.title('Pooled output activation volume')"
      ],
      "metadata": {
        "colab": {
          "base_uri": "https://localhost:8080/",
          "height": 298
        },
        "id": "P-M-f0hw_47S",
        "outputId": "3570dc55-7bb5-4cdc-f7fe-45326ec48ba0"
      },
      "execution_count": 532,
      "outputs": [
        {
          "output_type": "execute_result",
          "data": {
            "text/plain": [
              "Text(0.5, 1.0, 'Pooled output activation volume')"
            ]
          },
          "metadata": {},
          "execution_count": 532
        },
        {
          "output_type": "display_data",
          "data": {
            "text/plain": [
              "<Figure size 432x288 with 1 Axes>"
            ],
            "image/png": "[encoded data removed]"
          },
          "metadata": {
            "needs_background": "light"
          }
        }
      ]
    },
    {
      "cell_type": "markdown",
      "source": [
        "# **Question5**"
      ],
      "metadata": {
        "id": "xPPVV32hG_4E"
      }
    },
    {
      "cell_type": "markdown",
      "source": [
        "Flattening function"
      ],
      "metadata": {
        "id": "nePSQA1AcHQn"
      }
    },
    {
      "cell_type": "code",
      "source": [
        "def flattening(img, m):\n",
        "    w, h, c = img.shape\n",
        "    img = img.T.reshape((w*h*c))\n",
        "    w_matrix = np.random.rand(m,w*h*c)\n",
        "    return w_matrix@img\n",
        "\n",
        "flattened_vec = flattening(pooled_act_vol,100)\n",
        "print('Shape of flattened output vector',flattened_vec.shape)"
      ],
      "metadata": {
        "colab": {
          "base_uri": "https://localhost:8080/"
        },
        "id": "iWub9ty0XO6A",
        "outputId": "65c5e362-a35d-401e-97f8-4defc3f7f8b4"
      },
      "execution_count": 533,
      "outputs": [
        {
          "output_type": "stream",
          "name": "stdout",
          "text": [
            "Shape of flattened output vector (100,)\n"
          ]
        }
      ]
    },
    {
      "cell_type": "markdown",
      "source": [
        "# **Question6**"
      ],
      "metadata": {
        "id": "R9PZjnxdHDYq"
      }
    },
    {
      "cell_type": "markdown",
      "source": [
        "Multilayered perceptron function"
      ],
      "metadata": {
        "id": "pmCWSLyveBWH"
      }
    },
    {
      "cell_type": "code",
      "source": [
        "def hidlayer_output(in_vec, k, act_f):\n",
        "    l = len(in_vec) + 1\n",
        "    initial_w = np.random.rand(l,k)\n",
        "    x = np.ones(l)\n",
        "    x[1:] = in_vec\n",
        "    z = x@initial_w\n",
        "\n",
        "    if(act_f == 'sigmoid'): \n",
        "      return sigmoid(z)\n",
        "    elif(act_f == 'tanh'): \n",
        "      return tanh(z)\n",
        "    elif(act_f == 'ReLU'): \n",
        "      return np.array([ReLU(i) for i in z])\n",
        "    elif(act_f == 'PReLU'): \n",
        "      return np.array([PReLU(i) for i in z])\n",
        "    return z"
      ],
      "metadata": {
        "id": "uNaUemOGXs_0"
      },
      "execution_count": 534,
      "outputs": []
    },
    {
      "cell_type": "code",
      "source": [
        "#Softmax function\n",
        "def softmax(vec):\n",
        "  exp_sum = 0\n",
        "  for i in vec:\n",
        "    exp_sum += np.exp(i)\n",
        "  softmax = np.array([(np.exp(i)/exp_sum) for i in vec])\n",
        "  return softmax"
      ],
      "metadata": {
        "id": "CH03EcxvPzDZ"
      },
      "execution_count": 535,
      "outputs": []
    },
    {
      "cell_type": "code",
      "source": [
        "def MLP(in_vec, num_hidlayers, size_hidlayers, act_f, size_outlayer):\n",
        "    x = in_vec\n",
        "    for k in size_hidlayers:\n",
        "        x = hidlayer_output(x,k,act_f)\n",
        "    \n",
        "    initial_w = np.random.rand(size_hidlayers[num_hidlayers-1]+1,size_outlayer)\n",
        "    t = np.ones(size_hidlayers[num_hidlayers-1]+1)\n",
        "    t[1:] = x\n",
        "    z = t@initial_w\n",
        "\n",
        "    y = softmax(z)\n",
        "    return y,z"
      ],
      "metadata": {
        "id": "xQltU5-oPzKK"
      },
      "execution_count": 536,
      "outputs": []
    },
    {
      "cell_type": "markdown",
      "source": [
        "## **Question7**"
      ],
      "metadata": {
        "id": "iG-R8nJ8SEf6"
      }
    },
    {
      "cell_type": "markdown",
      "source": [
        "Feed-forward path"
      ],
      "metadata": {
        "id": "KLwDu8F9eG0d"
      }
    },
    {
      "cell_type": "code",
      "source": [
        "def ffp(img):\n",
        "    c1 = convolution_layer(img, k_num=16, k_size=[3,3,3], s=1, p=False, act_f='sigmoid')\n",
        "    p1 = pooling_layer(c1, pooling='max', s=2, p=[2,2])\n",
        "    c2 = convolution_layer(p1, k_num=8, k_size=[3,3,16], s=1, p=False, act_f='sigmoid')\n",
        "    p2 = pooling_layer(c2, pooling='max', s=2, p=[2,2])\n",
        "    MLP_input = flattening(p2, 5)\n",
        "    with_softmax, without_softmax = MLP(MLP_input,1,[15], act_f='sigmoid', size_outlayer=10)\n",
        "    return with_softmax, without_softmax"
      ],
      "metadata": {
        "id": "ROy3Vy8kXzjM"
      },
      "execution_count": 537,
      "outputs": []
    },
    {
      "cell_type": "code",
      "source": [
        "img = mpimg.imread('logo.png')"
      ],
      "metadata": {
        "id": "CbRnjJllX4uF"
      },
      "execution_count": 538,
      "outputs": []
    },
    {
      "cell_type": "code",
      "source": [
        "c1 = convolution_layer(img, k_num=16, k_size=[3,3,3], s=1, p=False, act_f='sigmoid')\n",
        "print(c1.shape)"
      ],
      "metadata": {
        "colab": {
          "base_uri": "https://localhost:8080/"
        },
        "id": "L93lfRNTX4wh",
        "outputId": "4e5b332e-e893-49f4-b3c7-2b180ebf5d62"
      },
      "execution_count": 539,
      "outputs": [
        {
          "output_type": "stream",
          "name": "stdout",
          "text": [
            "(30, 30, 16)\n"
          ]
        }
      ]
    },
    {
      "cell_type": "code",
      "source": [
        "p1 = pooling_layer(c1,pooling='max',s=2, p=[2,2])\n",
        "print(p1.shape)"
      ],
      "metadata": {
        "colab": {
          "base_uri": "https://localhost:8080/"
        },
        "id": "HP21YjBjX4ze",
        "outputId": "9aa7806f-a90f-40a1-d8a4-9a47b85f08f5"
      },
      "execution_count": 540,
      "outputs": [
        {
          "output_type": "stream",
          "name": "stdout",
          "text": [
            "(15, 15, 16)\n"
          ]
        }
      ]
    },
    {
      "cell_type": "code",
      "source": [
        "c2 = convolution_layer(p1, k_num=8, k_size=[3,3,16], s=1, p=False, act_f='sigmoid')\n",
        "print(c2.shape)"
      ],
      "metadata": {
        "colab": {
          "base_uri": "https://localhost:8080/"
        },
        "id": "ZBVjCpC_X42J",
        "outputId": "79def579-5790-4772-f09e-6459a57ee919"
      },
      "execution_count": 541,
      "outputs": [
        {
          "output_type": "stream",
          "name": "stdout",
          "text": [
            "(13, 13, 8)\n"
          ]
        }
      ]
    },
    {
      "cell_type": "code",
      "source": [
        "p2 = pooling_layer(c2,pooling='max',s=2, p=[2,2])\n",
        "print(p2.shape)"
      ],
      "metadata": {
        "colab": {
          "base_uri": "https://localhost:8080/"
        },
        "id": "DfeINXj2Xzlo",
        "outputId": "77bb2e54-7c7c-4d10-d9a5-81d1bd2b759d"
      },
      "execution_count": 542,
      "outputs": [
        {
          "output_type": "stream",
          "name": "stdout",
          "text": [
            "(7, 7, 8)\n"
          ]
        }
      ]
    },
    {
      "cell_type": "code",
      "source": [
        "MLP_input = flattening(p2, 5)\n",
        "print(MLP_input.shape)"
      ],
      "metadata": {
        "colab": {
          "base_uri": "https://localhost:8080/"
        },
        "id": "LfdCUSz3YCjf",
        "outputId": "610e8fc3-edae-40d9-c46b-d6187a5f5783"
      },
      "execution_count": 543,
      "outputs": [
        {
          "output_type": "stream",
          "name": "stdout",
          "text": [
            "(5,)\n"
          ]
        }
      ]
    },
    {
      "cell_type": "code",
      "source": [
        "with_softmax, without_softmax = MLP(MLP_input,1,[13],act_f='sigmoid',size_outlayer=10)\n",
        "print(with_softmax)\n",
        "print(without_softmax)\n"
      ],
      "metadata": {
        "colab": {
          "base_uri": "https://localhost:8080/"
        },
        "id": "bkeNWFizYCl-",
        "outputId": "f2ec8661-ea0e-46d1-cf2b-955d3430a811"
      },
      "execution_count": 544,
      "outputs": [
        {
          "output_type": "stream",
          "name": "stdout",
          "text": [
            "[0.35469775 0.05111635 0.27167349 0.02378601 0.01607993 0.02102958\n",
            " 0.05658031 0.16868662 0.02040981 0.01594013]\n",
            "[8.86781662 6.9306551  8.60115154 6.16564806 5.77412279 6.04248075\n",
            " 7.03221159 8.12459329 6.01256622 5.76539054]\n"
          ]
        }
      ]
    },
    {
      "cell_type": "markdown",
      "source": [
        "# **Question8(a)**"
      ],
      "metadata": {
        "id": "6tV1Mi1XSNCS"
      }
    },
    {
      "cell_type": "code",
      "source": [
        "imgs = []\n",
        "imgs.append(mpimg.imread('airplane1.png'))\n",
        "imgs.append(mpimg.imread('automobile1.png'))\n",
        "imgs.append(mpimg.imread('bird1.png'))\n",
        "imgs.append(mpimg.imread('cat1.png'))\n",
        "imgs.append(mpimg.imread('deer1.png'))\n",
        "imgs.append(mpimg.imread('dog1.png'))\n",
        "imgs.append(mpimg.imread('frog1.png'))\n",
        "imgs.append(mpimg.imread('horse1.png'))\n",
        "imgs.append(mpimg.imread('ship1.png'))\n",
        "imgs.append(mpimg.imread('truck1.png'))"
      ],
      "metadata": {
        "id": "1LvQg5IBYCnw"
      },
      "execution_count": 545,
      "outputs": []
    },
    {
      "cell_type": "code",
      "source": [
        "for i in imgs:\n",
        "  softmax_output = ffp(i)[1]\n",
        "  print(softmax_output)"
      ],
      "metadata": {
        "colab": {
          "base_uri": "https://localhost:8080/"
        },
        "id": "vwuKTumMQZON",
        "outputId": "579b4416-59d6-4632-b173-ff2cf141ca56"
      },
      "execution_count": 546,
      "outputs": [
        {
          "output_type": "stream",
          "name": "stdout",
          "text": [
            "[7.88982577 6.61801937 8.820455   9.48822053 9.52694913 8.24379349\n",
            " 9.35415423 8.25369409 9.38196822 8.77431289]\n",
            "[5.99279126 8.88836052 7.73508585 8.54835147 7.2154974  9.01256214\n",
            " 9.28463603 9.26263225 7.59703144 8.6777793 ]\n",
            "[8.33622657 7.13001826 7.73906419 7.36923062 8.23161952 6.64128408\n",
            " 7.86685988 6.77720823 8.31761575 7.91414392]\n",
            "[6.32374776 9.5147777  8.48023466 6.68966609 8.58305888 9.37696662\n",
            " 5.69350516 9.1119794  6.63395054 9.01985744]\n",
            "[8.43473074 7.97447017 8.63307182 7.76743534 9.0709268  8.06605041\n",
            " 7.00050988 8.08209946 7.79877513 7.99132673]\n",
            "[7.49448086 8.12452714 7.02365823 9.22996723 8.04897743 9.78053717\n",
            " 6.97175752 8.08082237 8.5780064  6.57926713]\n",
            "[7.85758818 8.31940161 9.11816182 7.73956279 9.76071308 7.83179213\n",
            " 7.27714725 7.89148314 8.1645528  9.32445163]\n",
            "[ 7.10520549  9.0687665   7.98299885 10.96908007  7.92769543  8.1365051\n",
            "  7.91526078  5.76307575 11.56040348  8.52279533]\n",
            "[7.53360752 8.00636555 6.38875773 8.10766469 5.15841448 5.9482191\n",
            " 7.43884918 8.15812347 7.6732948  7.78216166]\n",
            "[ 6.8455987   7.92086307  8.58414074 10.29181856  9.37941229  8.97072512\n",
            "  7.86186404  8.19050631  9.41745375  6.41624036]\n"
          ]
        }
      ]
    },
    {
      "cell_type": "markdown",
      "source": [
        "Some elements of the softmax output vectors are nearly the same and in few one element is comparetively larger than the others. "
      ],
      "metadata": {
        "id": "oWpkOlhPRDb1"
      }
    },
    {
      "cell_type": "markdown",
      "source": [
        "# **Question8**(b)"
      ],
      "metadata": {
        "id": "DUaMD63LWRN5"
      }
    },
    {
      "cell_type": "markdown",
      "source": [
        "Bottleneck layer"
      ],
      "metadata": {
        "id": "_M9lQvM6krN1"
      }
    },
    {
      "cell_type": "code",
      "source": [
        "def bottleneck(img):\n",
        "    c1 = convolution_layer(img, k_num=16, k_size=[3,3,3], s=1, p=False, act_f='sigmoid')\n",
        "    p1 = pooling_layer(c1,pooling='max',s=2, p=[2,2])\n",
        "    c2 = convolution_layer(p1, k_num=8, k_size=[3,3,16], s=1, p=False, act_f='sigmoid')\n",
        "    p2 = pooling_layer(c2,pooling='max',s=2, p=[2,2])\n",
        "    MLP_input = flattening(p2, 5)\n",
        "    return MLP_input"
      ],
      "metadata": {
        "id": "8mZqAbwKSbLq"
      },
      "execution_count": 547,
      "outputs": []
    },
    {
      "cell_type": "code",
      "source": [
        "imgs = []\n",
        "imgs.append(mpimg.imread('airplane1.png'))\n",
        "imgs.append(mpimg.imread('automobile1.png'))\n",
        "imgs.append(mpimg.imread('bird1.png'))\n",
        "imgs.append(mpimg.imread('cat1.png'))\n",
        "imgs.append(mpimg.imread('deer1.png'))\n",
        "imgs.append(mpimg.imread('dog1.png'))\n",
        "imgs.append(mpimg.imread('frog1.png'))\n",
        "imgs.append(mpimg.imread('horse1.png'))\n",
        "imgs.append(mpimg.imread('ship1.png'))\n",
        "imgs.append(mpimg.imread('truck1.png'))\n",
        "imgs.append(mpimg.imread('airplane2.png'))\n",
        "imgs.append(mpimg.imread('automobile2.png'))\n",
        "imgs.append(mpimg.imread('bird2.png'))\n",
        "imgs.append(mpimg.imread('cat2.png'))\n",
        "imgs.append(mpimg.imread('deer2.png'))\n",
        "imgs.append(mpimg.imread('dog2.png'))\n",
        "imgs.append(mpimg.imread('frog2.png'))\n",
        "imgs.append(mpimg.imread('horse2.png'))\n",
        "imgs.append(mpimg.imread('ship2.png'))\n",
        "imgs.append(mpimg.imread('truck2.png'))\n",
        "imgs.append(mpimg.imread('airplane3.png'))\n",
        "imgs.append(mpimg.imread('automobile3.png'))\n",
        "imgs.append(mpimg.imread('bird3.png'))\n",
        "imgs.append(mpimg.imread('cat3.png'))\n",
        "imgs.append(mpimg.imread('deer3.png'))\n",
        "imgs.append(mpimg.imread('dog3.png'))\n",
        "imgs.append(mpimg.imread('frog3.png'))\n",
        "imgs.append(mpimg.imread('horse3.png'))\n",
        "imgs.append(mpimg.imread('ship3.png'))\n",
        "imgs.append(mpimg.imread('truck3.png'))"
      ],
      "metadata": {
        "id": "X7-SOVt3SzMx"
      },
      "execution_count": 548,
      "outputs": []
    },
    {
      "cell_type": "code",
      "source": [
        "#Bottleneck layers for three images from each class\n",
        "X = np.zeros((30,5))\n",
        "j = 0\n",
        "for i in imgs:\n",
        "  X[j] = bottleneck(i)\n",
        "  j = j+1"
      ],
      "metadata": {
        "id": "bg-EnB_LYN2G"
      },
      "execution_count": 549,
      "outputs": []
    },
    {
      "cell_type": "code",
      "source": [
        "# Labeling the images\n",
        "Y = np.zeros(30)\n",
        "Y[:10] = range(0,10)\n",
        "Y[10:20] = range(0,10)\n",
        "Y[20:] = range(0,10)"
      ],
      "metadata": {
        "id": "44ny3dw1YN6a"
      },
      "execution_count": 550,
      "outputs": []
    },
    {
      "cell_type": "code",
      "source": [
        "import numpy as np\n",
        "import seaborn as sns\n",
        "from sklearn.manifold import TSNE\n"
      ],
      "metadata": {
        "id": "Pf6gPC_sYN9Y"
      },
      "execution_count": 551,
      "outputs": []
    },
    {
      "cell_type": "code",
      "source": [
        "model = TSNE(n_components=2, random_state=0)\n",
        "tsne = model.fit_transform(X) \n",
        "\n",
        "X = pd.DataFrame()\n",
        "X[\"x_1\"] = tsne[:,0]\n",
        "X[\"x_2\"] = tsne[:,1]\n",
        "X[\"y\"] = Y\n",
        "\n",
        "plt.xlim(-400, 400)\n",
        "plt.ylim(-400, 400)\n",
        "\n",
        "sns.scatterplot(data=X, x=\"x_1\", y=\"x_2\", hue=X['y'],\n",
        "                palette=sns.color_palette(\"hls\", 10)\n",
        "                ).set(title=\"TSNE\") \n"
      ],
      "metadata": {
        "colab": {
          "base_uri": "https://localhost:8080/",
          "height": 401
        },
        "id": "zp8UWwOXYN_d",
        "outputId": "1ce6252d-bff9-4ba6-dc1f-1c24d9c9851b"
      },
      "execution_count": 552,
      "outputs": [
        {
          "output_type": "stream",
          "name": "stderr",
          "text": [
            "/usr/local/lib/python3.8/dist-packages/sklearn/manifold/_t_sne.py:780: FutureWarning: The default initialization in TSNE will change from 'random' to 'pca' in 1.2.\n",
            "  warnings.warn(\n",
            "/usr/local/lib/python3.8/dist-packages/sklearn/manifold/_t_sne.py:790: FutureWarning: The default learning rate in TSNE will change from 200.0 to 'auto' in 1.2.\n",
            "  warnings.warn(\n"
          ]
        },
        {
          "output_type": "execute_result",
          "data": {
            "text/plain": [
              "[Text(0.5, 1.0, 'TSNE')]"
            ]
          },
          "metadata": {},
          "execution_count": 552
        },
        {
          "output_type": "display_data",
          "data": {
            "text/plain": [
              "<Figure size 432x288 with 1 Axes>"
            ],
            "image/png": "[encoded data removed]"
          },
          "metadata": {
            "needs_background": "light"
          }
        }
      ]
    },
    {
      "cell_type": "markdown",
      "source": [
        "In most of the cases all the same coloured points are nearby and atleast two points of same colours are closer.\n",
        "\n",
        "Randomly initialized network doesn't distinguish the images of different classes well because of randomisation. Hence, it is non-discriminable.\n"
      ],
      "metadata": {
        "id": "47HaAW5DUqdv"
      }
    }
  ]
}